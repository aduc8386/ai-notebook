{
 "cells": [
  {
   "cell_type": "markdown",
   "id": "31607e00",
   "metadata": {
    "id": "31607e00"
   },
   "source": [
    "# 🎓 Final Project: Emotion Classification with BERT on GoEmotions\n",
    "This notebook walks you through training a BERT model for multi-label emotion classification using the GoEmotions dataset."
   ]
  },
  {
   "cell_type": "code",
   "execution_count": null,
   "id": "2f6ec537",
   "metadata": {
    "id": "2f6ec537"
   },
   "outputs": [],
   "source": [
    "# Install and upgrade required libraries\n",
    "!pip install -U transformers datasets \"scikit-learn<1.7\""
   ]
  },
  {
   "cell_type": "code",
   "execution_count": null,
   "id": "73648b73",
   "metadata": {
    "id": "73648b73"
   },
   "outputs": [],
   "source": [
    "# Import required libraries\n",
    "import torch\n",
    "import numpy as np\n",
    "import matplotlib.pyplot as plt\n",
    "import pandas as pd\n",
    "\n",
    "from transformers import BertTokenizer, BertForSequenceClassification, Trainer, TrainingArguments, EarlyStoppingCallback\n",
    "from datasets import load_dataset\n",
    "from sklearn.metrics import f1_score, accuracy_score"
   ]
  },
  {
   "cell_type": "code",
   "execution_count": null,
   "id": "ee51f029",
   "metadata": {
    "id": "ee51f029"
   },
   "outputs": [],
   "source": [
    "# Load the GoEmotions dataset\n",
    "# Link datasets: https://www.kaggle.com/datasets/debarshichanda/goemotions/\n",
    "dataset = load_dataset(\"go_emotions\")"
   ]
  },
  {
   "cell_type": "code",
   "execution_count": null,
   "id": "03375b57",
   "metadata": {
    "id": "03375b57"
   },
   "outputs": [],
   "source": [
    "# Load pre-trained BERT tokenizer\n",
    "tokenizer = BertTokenizer.from_pretrained(\"bert-base-uncased\")"
   ]
  },
  {
   "cell_type": "code",
   "execution_count": null,
   "id": "32f1d1e7",
   "metadata": {
    "id": "32f1d1e7"
   },
   "outputs": [],
   "source": [
    "# Tokenize the dataset\n",
    "def tokenize_function(example):\n",
    "    return tokenizer(\n",
    "        example[\"text\"],\n",
    "        padding=\"max_length\",\n",
    "        truncation=True,\n",
    "        max_length=30\n",
    "    )\n",
    "\n",
    "tokenized_datasets = dataset.map(tokenize_function, batched=True)"
   ]
  },
  {
   "cell_type": "code",
   "execution_count": null,
   "id": "07e78ac5",
   "metadata": {
    "id": "07e78ac5"
   },
   "outputs": [],
   "source": [
    "# Format multi-label outputs (force float32 tensors)\n",
    "import torch\n",
    "\n",
    "def format_labels(example):\n",
    "    label_vector = [0.0] * 28\n",
    "    for label in example[\"labels\"]:\n",
    "        label_vector[label] = 1.0\n",
    "    example[\"labels\"] = torch.tensor(label_vector, dtype=torch.float32)\n",
    "    return example\n",
    "\n",
    "tokenized_datasets = tokenized_datasets.map(format_labels)\n",
    "\n",
    "# 💡 Force labels to be float32 for PyTorch\n",
    "tokenized_datasets.set_format(type=\"torch\", columns=[\"input_ids\", \"attention_mask\", \"labels\"])"
   ]
  },
  {
   "cell_type": "code",
   "execution_count": null,
   "id": "9b6d30e6",
   "metadata": {
    "id": "9b6d30e6"
   },
   "outputs": [],
   "source": [
    "# Load BERT for multi-label classification\n",
    "model = BertForSequenceClassification.from_pretrained(\n",
    "    \"bert-base-uncased\",\n",
    "    num_labels=28,\n",
    "    problem_type=\"multi_label_classification\"\n",
    ")"
   ]
  },
  {
   "cell_type": "code",
   "execution_count": null,
   "id": "a5e5db4f",
   "metadata": {
    "id": "a5e5db4f"
   },
   "outputs": [],
   "source": [
    "# Define evaluation metrics\n",
    "def compute_metrics(pred):\n",
    "    logits, labels = pred\n",
    "    # Ensure labels are float32 for metric calculation\n",
    "    labels = labels.astype(np.float32)\n",
    "    probs = torch.sigmoid(torch.from_numpy(logits))\n",
    "    preds = (probs > 0.5).int().numpy()\n",
    "    f1 = f1_score(labels, preds, average=\"micro\")\n",
    "    acc = accuracy_score(labels, preds)\n",
    "    return {\"f1\": f1, \"accuracy\": acc}"
   ]
  },
  {
   "cell_type": "code",
   "execution_count": null,
   "id": "917190ed",
   "metadata": {
    "id": "917190ed"
   },
   "outputs": [],
   "source": [
    "# Training arguments\n",
    "training_args = TrainingArguments(\n",
    "    output_dir=\"./results\",\n",
    "    eval_strategy=\"steps\",          # Evaluate after each epoch\n",
    "    save_strategy=\"steps\",                 # Save model after each epoch\n",
    "    learning_rate=2e-5,                    # Works well for BERT fine-tuning\n",
    "    per_device_train_batch_size=32,        # 16 for balance between speed and memory\n",
    "    per_device_eval_batch_size=32,         # Larger for eval since no backprop\n",
    "    num_train_epochs=3,                    # GoEmotions is small → more epochs help\n",
    "    weight_decay=0.01,                      # Regularization\n",
    "    lr_scheduler_type=\"linear\",            # Linear decay after warmup\n",
    "    warmup_ratio=0.1,                       # 10% of steps for LR warmup\n",
    "    logging_dir=\"./logs\",\n",
    "    logging_strategy=\"steps\",\n",
    "    logging_steps=100,                       # Frequent logging\n",
    "    eval_steps=100,\n",
    "    load_best_model_at_end=True,            # Keep best checkpoint\n",
    "    metric_for_best_model=\"eval_f1\",       # Macro F1 for balanced emotion classes\n",
    "    greater_is_better=True,                 # Higher F1 is better\n",
    "    save_total_limit=2,                     # Keep only last 2 checkpoints\n",
    "    fp16=True,                              # Mixed precision if GPU supports\n",
    "    gradient_accumulation_steps=2,          # Effective batch size 32 without OOM\n",
    "    report_to=[\"tensorboard\"],              # For visualization\n",
    "    seed=42                                 # Reproducibility\n",
    ")"
   ]
  },
  {
   "cell_type": "code",
   "execution_count": null,
   "id": "9d8472c0",
   "metadata": {
    "id": "9d8472c0"
   },
   "outputs": [],
   "source": [
    "# Create a custom Trainer to handle float labels\n",
    "class MultilabelTrainer(Trainer):\n",
    "    def compute_loss(self, model, inputs, return_outputs=False, **kwargs):\n",
    "        labels = inputs.pop(\"labels\")\n",
    "        outputs = model(**inputs)\n",
    "        logits = outputs.logits\n",
    "        loss_fct = torch.nn.BCEWithLogitsLoss()\n",
    "        loss = loss_fct(logits, labels.float())\n",
    "        return (loss, outputs) if return_outputs else loss"
   ]
  },
  {
   "cell_type": "code",
   "execution_count": null,
   "id": "LvnvkFDIbMvR",
   "metadata": {
    "id": "LvnvkFDIbMvR"
   },
   "outputs": [],
   "source": [
    "# Initialize trainer and start training\n",
    "trainer = MultilabelTrainer(\n",
    "    model=model,\n",
    "    args=training_args,\n",
    "    train_dataset=tokenized_datasets[\"train\"],\n",
    "    eval_dataset=tokenized_datasets[\"validation\"],\n",
    "    compute_metrics=compute_metrics\n",
    ")\n",
    "\n",
    "trainer.train()"
   ]
  },
  {
   "cell_type": "code",
   "execution_count": null,
   "id": "rI8pcuL-I3e0",
   "metadata": {
    "id": "rI8pcuL-I3e0"
   },
   "outputs": [],
   "source": [
    "# Evaluate the model\n",
    "eval_results = trainer.evaluate()\n",
    "print(f\"Evaluation results: {eval_results}\")"
   ]
  },
  {
   "cell_type": "code",
   "execution_count": null,
   "id": "488499dd",
   "metadata": {
    "collapsed": true,
    "id": "488499dd"
   },
   "outputs": [],
   "source": [
    "# Predict emotions for custom input\n",
    "from datasets import load_dataset\n",
    "dataset = load_dataset(\"go_emotions\")\n",
    "emotion_labels = dataset[\"train\"].features[\"labels\"].feature.names\n",
    "\n",
    "def predict_emotions(text):\n",
    "    model.eval()\n",
    "    inputs = tokenizer(text, return_tensors=\"pt\", truncation=True, padding=\"max_length\", max_length=30)\n",
    "    inputs = {k: v.to(model.device) for k, v in inputs.items()} # Move inputs to the same device as the model\n",
    "    with torch.no_grad():\n",
    "        logits = model(**inputs).logits\n",
    "    probs = torch.sigmoid(logits)[0].cpu().numpy() # Move probabilities to CPU for numpy conversion\n",
    "    threshold = 0.5\n",
    "    predictions = [emotion_labels[i] for i, p in enumerate(probs) if p > threshold]\n",
    "    return predictions\n",
    "\n",
    "# Example usage\n",
    "user_input = input(\"Enter a comment: \")\n",
    "predicted_emotions = predict_emotions(user_input)\n",
    "print(\"Predicted emotions:\", predicted_emotions)"
   ]
  },
  {
   "cell_type": "code",
   "execution_count": null,
   "id": "71FPTnjqt9yY",
   "metadata": {
    "id": "71FPTnjqt9yY"
   },
   "outputs": [],
   "source": [
    "import matplotlib.pyplot as plt\n",
    "\n",
    "# log_history comes from trainer.state.log_history after training\n",
    "log_history = trainer.state.log_history\n",
    "\n",
    "train_loss = []\n",
    "eval_loss = []\n",
    "epochs_train = []\n",
    "epochs_eval = []\n",
    "\n",
    "for entry in log_history:\n",
    "    if \"loss\" in entry and \"epoch\" in entry:\n",
    "        train_loss.append(entry[\"loss\"])\n",
    "        epochs_train.append(entry[\"epoch\"])\n",
    "    if \"eval_loss\" in entry and \"epoch\" in entry:\n",
    "        eval_loss.append(entry[\"eval_loss\"])\n",
    "        epochs_eval.append(entry[\"epoch\"])\n",
    "\n",
    "# Plot the curves\n",
    "plt.figure(figsize=(10, 6))\n",
    "plt.plot(epochs_train, train_loss, label=\"Train Loss\", marker='o')\n",
    "plt.plot(epochs_eval, eval_loss, label=\"Eval Loss\", marker='x')\n",
    "\n",
    "plt.xlabel(\"Epoch\")\n",
    "plt.ylabel(\"Loss\")\n",
    "plt.title(\"Training & Evaluation Loss\")\n",
    "plt.legend()\n",
    "plt.grid(True)\n",
    "plt.show()\n"
   ]
  },
  {
   "cell_type": "code",
   "execution_count": null,
   "id": "xCx4tL5oMfQn",
   "metadata": {
    "id": "xCx4tL5oMfQn"
   },
   "outputs": [],
   "source": []
  }
 ],
 "metadata": {
  "accelerator": "GPU",
  "colab": {
   "gpuType": "T4",
   "provenance": []
  },
  "kernelspec": {
   "display_name": "Python 3",
   "name": "python3"
  },
  "language_info": {
   "name": "python"
  }
 },
 "nbformat": 4,
 "nbformat_minor": 5
}
